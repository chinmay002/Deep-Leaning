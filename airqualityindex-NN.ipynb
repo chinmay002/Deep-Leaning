{
 "cells": [
  {
   "cell_type": "code",
   "execution_count": 1,
   "metadata": {},
   "outputs": [],
   "source": [
    "import  pandas as pd\n",
    "import numpy as np\n",
    "import matplotlib.pyplot as plt\n",
    "import seaborn as sns"
   ]
  },
  {
   "cell_type": "code",
   "execution_count": 2,
   "metadata": {},
   "outputs": [],
   "source": [
    "df=pd.read_csv('C:/Users/Chinmay Maganur/Desktop/FLASK/Hired deployment/New folder/Air quality INdex/Data/Real-Data/Real_Combine.csv')"
   ]
  },
  {
   "cell_type": "code",
   "execution_count": 3,
   "metadata": {},
   "outputs": [
    {
     "data": {
      "text/html": [
       "<div>\n",
       "<style scoped>\n",
       "    .dataframe tbody tr th:only-of-type {\n",
       "        vertical-align: middle;\n",
       "    }\n",
       "\n",
       "    .dataframe tbody tr th {\n",
       "        vertical-align: top;\n",
       "    }\n",
       "\n",
       "    .dataframe thead th {\n",
       "        text-align: right;\n",
       "    }\n",
       "</style>\n",
       "<table border=\"1\" class=\"dataframe\">\n",
       "  <thead>\n",
       "    <tr style=\"text-align: right;\">\n",
       "      <th></th>\n",
       "      <th>T</th>\n",
       "      <th>TM</th>\n",
       "      <th>Tm</th>\n",
       "      <th>SLP</th>\n",
       "      <th>H</th>\n",
       "      <th>VV</th>\n",
       "      <th>V</th>\n",
       "      <th>VM</th>\n",
       "      <th>PM 2.5</th>\n",
       "    </tr>\n",
       "  </thead>\n",
       "  <tbody>\n",
       "    <tr>\n",
       "      <th>0</th>\n",
       "      <td>7.4</td>\n",
       "      <td>9.8</td>\n",
       "      <td>4.8</td>\n",
       "      <td>1017.6</td>\n",
       "      <td>93.0</td>\n",
       "      <td>0.5</td>\n",
       "      <td>4.3</td>\n",
       "      <td>9.4</td>\n",
       "      <td>219.720833</td>\n",
       "    </tr>\n",
       "    <tr>\n",
       "      <th>1</th>\n",
       "      <td>7.8</td>\n",
       "      <td>12.7</td>\n",
       "      <td>4.4</td>\n",
       "      <td>1018.5</td>\n",
       "      <td>87.0</td>\n",
       "      <td>0.6</td>\n",
       "      <td>4.4</td>\n",
       "      <td>11.1</td>\n",
       "      <td>182.187500</td>\n",
       "    </tr>\n",
       "    <tr>\n",
       "      <th>2</th>\n",
       "      <td>6.7</td>\n",
       "      <td>13.4</td>\n",
       "      <td>2.4</td>\n",
       "      <td>1019.4</td>\n",
       "      <td>82.0</td>\n",
       "      <td>0.6</td>\n",
       "      <td>4.8</td>\n",
       "      <td>11.1</td>\n",
       "      <td>154.037500</td>\n",
       "    </tr>\n",
       "    <tr>\n",
       "      <th>3</th>\n",
       "      <td>8.6</td>\n",
       "      <td>15.5</td>\n",
       "      <td>3.3</td>\n",
       "      <td>1018.7</td>\n",
       "      <td>72.0</td>\n",
       "      <td>0.8</td>\n",
       "      <td>8.1</td>\n",
       "      <td>20.6</td>\n",
       "      <td>223.208333</td>\n",
       "    </tr>\n",
       "    <tr>\n",
       "      <th>4</th>\n",
       "      <td>12.4</td>\n",
       "      <td>20.9</td>\n",
       "      <td>4.4</td>\n",
       "      <td>1017.3</td>\n",
       "      <td>61.0</td>\n",
       "      <td>1.3</td>\n",
       "      <td>8.7</td>\n",
       "      <td>22.2</td>\n",
       "      <td>200.645833</td>\n",
       "    </tr>\n",
       "  </tbody>\n",
       "</table>\n",
       "</div>"
      ],
      "text/plain": [
       "      T    TM   Tm     SLP     H   VV    V    VM      PM 2.5\n",
       "0   7.4   9.8  4.8  1017.6  93.0  0.5  4.3   9.4  219.720833\n",
       "1   7.8  12.7  4.4  1018.5  87.0  0.6  4.4  11.1  182.187500\n",
       "2   6.7  13.4  2.4  1019.4  82.0  0.6  4.8  11.1  154.037500\n",
       "3   8.6  15.5  3.3  1018.7  72.0  0.8  8.1  20.6  223.208333\n",
       "4  12.4  20.9  4.4  1017.3  61.0  1.3  8.7  22.2  200.645833"
      ]
     },
     "execution_count": 3,
     "metadata": {},
     "output_type": "execute_result"
    }
   ],
   "source": [
    "df.head()"
   ]
  },
  {
   "cell_type": "code",
   "execution_count": 47,
   "metadata": {},
   "outputs": [
    {
     "data": {
      "text/plain": [
       "T         0\n",
       "TM        0\n",
       "Tm        0\n",
       "SLP       0\n",
       "H         0\n",
       "VV        0\n",
       "V         0\n",
       "VM        0\n",
       "PM 2.5    0\n",
       "dtype: int64"
      ]
     },
     "execution_count": 47,
     "metadata": {},
     "output_type": "execute_result"
    }
   ],
   "source": [
    "df=df.dropna()\n",
    "df.isnull().sum()"
   ]
  },
  {
   "cell_type": "code",
   "execution_count": 4,
   "metadata": {},
   "outputs": [],
   "source": [
    "from sklearn.model_selection import train_test_split\n",
    "import tensorflow\n",
    "from tensorflow.keras.layers import Dense,Flatten\n",
    "from tensorflow.keras.models import Sequential\n"
   ]
  },
  {
   "cell_type": "code",
   "execution_count": 118,
   "metadata": {},
   "outputs": [],
   "source": [
    "X=df.iloc[:,:-1]\n",
    "y=df['PM 2.5']"
   ]
  },
  {
   "cell_type": "code",
   "execution_count": 119,
   "metadata": {},
   "outputs": [],
   "source": [
    "x_train,x_test,y_train,y_test=train_test_split(X,y,test_size=0.3,random_state=0)"
   ]
  },
  {
   "cell_type": "code",
   "execution_count": 100,
   "metadata": {},
   "outputs": [],
   "source": [
    "model=Sequential()\n",
    "model.add(Dense(128, kernel_initializer='normal',input_dim = x_train.shape[1], activation='relu'))\n",
    "model.add(Dense(units=256,activation='relu',kernel_initializer='normal'))\n",
    "model.add(Dense(units=256,activation='relu',kernel_initializer='normal'))\n",
    "model.add(Dense(1,activation='linear'))\n",
    "\n",
    "model.compile(optimizer='adam',loss='mean_absolute_error',metrics=['mean_absolute_error'])"
   ]
  },
  {
   "cell_type": "code",
   "execution_count": 101,
   "metadata": {},
   "outputs": [
    {
     "name": "stdout",
     "output_type": "stream",
     "text": [
      "Model: \"sequential_13\"\n",
      "_________________________________________________________________\n",
      "Layer (type)                 Output Shape              Param #   \n",
      "=================================================================\n",
      "dense_30 (Dense)             (None, 128)               1152      \n",
      "_________________________________________________________________\n",
      "dense_31 (Dense)             (None, 256)               33024     \n",
      "_________________________________________________________________\n",
      "dense_32 (Dense)             (None, 256)               65792     \n",
      "_________________________________________________________________\n",
      "dense_33 (Dense)             (None, 1)                 257       \n",
      "=================================================================\n",
      "Total params: 100,225\n",
      "Trainable params: 100,225\n",
      "Non-trainable params: 0\n",
      "_________________________________________________________________\n"
     ]
    }
   ],
   "source": [
    "model.summary()"
   ]
  },
  {
   "cell_type": "code",
   "execution_count": 102,
   "metadata": {},
   "outputs": [
    {
     "name": "stdout",
     "output_type": "stream",
     "text": [
      "WARNING:tensorflow:Falling back from v2 loop because of error: Failed to find data adapter that can handle input: <class 'pandas.core.frame.DataFrame'>, <class 'NoneType'>\n",
      "Train on 342 samples, validate on 169 samples\n",
      "Epoch 1/100\n",
      "342/342 [==============================] - 1s 2ms/sample - loss: 70.4878 - mean_absolute_error: 70.4878 - val_loss: 61.9842 - val_mean_absolute_error: 61.9842\n",
      "Epoch 2/100\n",
      "342/342 [==============================] - 0s 1ms/sample - loss: 66.7429 - mean_absolute_error: 66.7429 - val_loss: 62.3939 - val_mean_absolute_error: 62.3939\n",
      "Epoch 3/100\n",
      "342/342 [==============================] - 0s 1ms/sample - loss: 66.6298 - mean_absolute_error: 66.6298 - val_loss: 61.0943 - val_mean_absolute_error: 61.0943\n",
      "Epoch 4/100\n",
      "342/342 [==============================] - 0s 1ms/sample - loss: 65.5451 - mean_absolute_error: 65.5451 - val_loss: 58.9949 - val_mean_absolute_error: 58.9949\n",
      "Epoch 5/100\n",
      "342/342 [==============================] - 0s 1ms/sample - loss: 64.2485 - mean_absolute_error: 64.2485 - val_loss: 57.0983 - val_mean_absolute_error: 57.0983\n",
      "Epoch 6/100\n",
      "342/342 [==============================] - 0s 1ms/sample - loss: 59.8661 - mean_absolute_error: 59.8661 - val_loss: 53.5440 - val_mean_absolute_error: 53.5440\n",
      "Epoch 7/100\n",
      "342/342 [==============================] - 0s 1ms/sample - loss: 51.1265 - mean_absolute_error: 51.1265 - val_loss: 52.0624 - val_mean_absolute_error: 52.0624\n",
      "Epoch 8/100\n",
      "342/342 [==============================] - 0s 1ms/sample - loss: 45.4918 - mean_absolute_error: 45.4918 - val_loss: 53.7794 - val_mean_absolute_error: 53.7794\n",
      "Epoch 9/100\n",
      "342/342 [==============================] - 0s 1ms/sample - loss: 46.5995 - mean_absolute_error: 46.5995 - val_loss: 42.8982 - val_mean_absolute_error: 42.8982\n",
      "Epoch 10/100\n",
      "342/342 [==============================] - 0s 1ms/sample - loss: 46.9233 - mean_absolute_error: 46.9233 - val_loss: 42.4697 - val_mean_absolute_error: 42.4697\n",
      "Epoch 11/100\n",
      "342/342 [==============================] - 0s 1ms/sample - loss: 45.4649 - mean_absolute_error: 45.4649 - val_loss: 53.8318 - val_mean_absolute_error: 53.8318\n",
      "Epoch 12/100\n",
      "342/342 [==============================] - 0s 1ms/sample - loss: 43.9330 - mean_absolute_error: 43.9330 - val_loss: 42.6543 - val_mean_absolute_error: 42.6543\n",
      "Epoch 13/100\n",
      "342/342 [==============================] - 0s 1ms/sample - loss: 41.8039 - mean_absolute_error: 41.8039 - val_loss: 42.5686 - val_mean_absolute_error: 42.5686\n",
      "Epoch 14/100\n",
      "342/342 [==============================] - 0s 1ms/sample - loss: 42.0043 - mean_absolute_error: 42.0043 - val_loss: 42.5301 - val_mean_absolute_error: 42.5301\n",
      "Epoch 15/100\n",
      "342/342 [==============================] - 0s 1ms/sample - loss: 41.3642 - mean_absolute_error: 41.3642 - val_loss: 41.5748 - val_mean_absolute_error: 41.5748\n",
      "Epoch 16/100\n",
      "342/342 [==============================] - 0s 986us/sample - loss: 41.9499 - mean_absolute_error: 41.9499 - val_loss: 42.4453 - val_mean_absolute_error: 42.4453\n",
      "Epoch 17/100\n",
      "342/342 [==============================] - 0s 1ms/sample - loss: 41.6796 - mean_absolute_error: 41.6796 - val_loss: 43.7245 - val_mean_absolute_error: 43.7245\n",
      "Epoch 18/100\n",
      "342/342 [==============================] - 0s 898us/sample - loss: 41.2384 - mean_absolute_error: 41.2384 - val_loss: 42.0067 - val_mean_absolute_error: 42.0067\n",
      "Epoch 19/100\n",
      "342/342 [==============================] - 0s 872us/sample - loss: 40.6342 - mean_absolute_error: 40.6343 - val_loss: 41.1707 - val_mean_absolute_error: 41.1707\n",
      "Epoch 20/100\n",
      "342/342 [==============================] - 0s 881us/sample - loss: 42.1451 - mean_absolute_error: 42.1451 - val_loss: 47.5222 - val_mean_absolute_error: 47.5222\n",
      "Epoch 21/100\n",
      "342/342 [==============================] - 0s 939us/sample - loss: 42.7137 - mean_absolute_error: 42.7137 - val_loss: 40.2630 - val_mean_absolute_error: 40.2630\n",
      "Epoch 22/100\n",
      "342/342 [==============================] - 0s 829us/sample - loss: 41.5465 - mean_absolute_error: 41.5465 - val_loss: 48.1031 - val_mean_absolute_error: 48.1031\n",
      "Epoch 23/100\n",
      "342/342 [==============================] - 0s 835us/sample - loss: 45.6515 - mean_absolute_error: 45.6515 - val_loss: 43.3497 - val_mean_absolute_error: 43.3497\n",
      "Epoch 24/100\n",
      "342/342 [==============================] - 0s 784us/sample - loss: 43.0935 - mean_absolute_error: 43.0935 - val_loss: 40.0328 - val_mean_absolute_error: 40.0328\n",
      "Epoch 25/100\n",
      "342/342 [==============================] - 0s 884us/sample - loss: 38.9252 - mean_absolute_error: 38.9252 - val_loss: 42.9617 - val_mean_absolute_error: 42.9617\n",
      "Epoch 26/100\n",
      "342/342 [==============================] - 0s 781us/sample - loss: 39.2314 - mean_absolute_error: 39.2314 - val_loss: 40.4345 - val_mean_absolute_error: 40.4345\n",
      "Epoch 27/100\n",
      "342/342 [==============================] - 0s 854us/sample - loss: 40.6247 - mean_absolute_error: 40.6247 - val_loss: 41.9748 - val_mean_absolute_error: 41.9748\n",
      "Epoch 28/100\n",
      "342/342 [==============================] - 0s 819us/sample - loss: 40.7850 - mean_absolute_error: 40.7850 - val_loss: 40.1889 - val_mean_absolute_error: 40.1889\n",
      "Epoch 29/100\n",
      "342/342 [==============================] - 0s 819us/sample - loss: 42.0879 - mean_absolute_error: 42.0879 - val_loss: 43.3653 - val_mean_absolute_error: 43.3653\n",
      "Epoch 30/100\n",
      "342/342 [==============================] - 0s 711us/sample - loss: 39.9528 - mean_absolute_error: 39.9528 - val_loss: 40.0226 - val_mean_absolute_error: 40.0226\n",
      "Epoch 31/100\n",
      "342/342 [==============================] - 0s 743us/sample - loss: 42.7447 - mean_absolute_error: 42.7447 - val_loss: 40.4560 - val_mean_absolute_error: 40.4560\n",
      "Epoch 32/100\n",
      "342/342 [==============================] - 0s 701us/sample - loss: 39.9109 - mean_absolute_error: 39.9109 - val_loss: 40.3388 - val_mean_absolute_error: 40.3388\n",
      "Epoch 33/100\n",
      "342/342 [==============================] - 0s 729us/sample - loss: 40.1596 - mean_absolute_error: 40.1596 - val_loss: 43.8507 - val_mean_absolute_error: 43.8507\n",
      "Epoch 34/100\n",
      "342/342 [==============================] - 0s 702us/sample - loss: 41.0555 - mean_absolute_error: 41.0555 - val_loss: 42.9135 - val_mean_absolute_error: 42.9135\n",
      "Epoch 35/100\n",
      "342/342 [==============================] - 0s 691us/sample - loss: 40.1591 - mean_absolute_error: 40.1591 - val_loss: 40.0364 - val_mean_absolute_error: 40.0364\n",
      "Epoch 36/100\n",
      "342/342 [==============================] - 0s 708us/sample - loss: 44.3002 - mean_absolute_error: 44.3002 - val_loss: 48.2383 - val_mean_absolute_error: 48.2383\n",
      "Epoch 37/100\n",
      "342/342 [==============================] - 0s 691us/sample - loss: 40.0304 - mean_absolute_error: 40.0304 - val_loss: 39.3000 - val_mean_absolute_error: 39.3000\n",
      "Epoch 38/100\n",
      "342/342 [==============================] - 0s 679us/sample - loss: 41.2134 - mean_absolute_error: 41.2134 - val_loss: 43.6163 - val_mean_absolute_error: 43.6163\n",
      "Epoch 39/100\n",
      "342/342 [==============================] - 0s 609us/sample - loss: 39.8742 - mean_absolute_error: 39.8742 - val_loss: 39.2529 - val_mean_absolute_error: 39.2529\n",
      "Epoch 40/100\n",
      "342/342 [==============================] - 0s 559us/sample - loss: 37.6733 - mean_absolute_error: 37.6733 - val_loss: 42.1107 - val_mean_absolute_error: 42.1107\n",
      "Epoch 41/100\n",
      "342/342 [==============================] - 0s 553us/sample - loss: 37.9540 - mean_absolute_error: 37.9540 - val_loss: 46.1327 - val_mean_absolute_error: 46.1327\n",
      "Epoch 42/100\n",
      "342/342 [==============================] - 0s 573us/sample - loss: 42.1642 - mean_absolute_error: 42.1642 - val_loss: 39.2777 - val_mean_absolute_error: 39.2777\n",
      "Epoch 43/100\n",
      "342/342 [==============================] - 0s 518us/sample - loss: 38.3304 - mean_absolute_error: 38.3304 - val_loss: 38.9828 - val_mean_absolute_error: 38.9828\n",
      "Epoch 44/100\n",
      "342/342 [==============================] - 0s 489us/sample - loss: 38.3253 - mean_absolute_error: 38.3253 - val_loss: 42.5120 - val_mean_absolute_error: 42.5120\n",
      "Epoch 45/100\n",
      "342/342 [==============================] - 0s 465us/sample - loss: 38.5046 - mean_absolute_error: 38.5046 - val_loss: 38.9658 - val_mean_absolute_error: 38.9658\n",
      "Epoch 46/100\n",
      "342/342 [==============================] - 0s 462us/sample - loss: 37.7607 - mean_absolute_error: 37.7607 - val_loss: 39.8135 - val_mean_absolute_error: 39.8135\n",
      "Epoch 47/100\n"
     ]
    },
    {
     "name": "stdout",
     "output_type": "stream",
     "text": [
      "342/342 [==============================] - 0s 486us/sample - loss: 39.1272 - mean_absolute_error: 39.1272 - val_loss: 38.6761 - val_mean_absolute_error: 38.6761\n",
      "Epoch 48/100\n",
      "342/342 [==============================] - 0s 430us/sample - loss: 39.0412 - mean_absolute_error: 39.0412 - val_loss: 39.1755 - val_mean_absolute_error: 39.1755\n",
      "Epoch 49/100\n",
      "342/342 [==============================] - 0s 459us/sample - loss: 39.0887 - mean_absolute_error: 39.0887 - val_loss: 38.6092 - val_mean_absolute_error: 38.6092\n",
      "Epoch 50/100\n",
      "342/342 [==============================] - 0s 456us/sample - loss: 40.3212 - mean_absolute_error: 40.3212 - val_loss: 42.1138 - val_mean_absolute_error: 42.1138\n",
      "Epoch 51/100\n",
      "342/342 [==============================] - 0s 424us/sample - loss: 37.9068 - mean_absolute_error: 37.9068 - val_loss: 43.5696 - val_mean_absolute_error: 43.5696\n",
      "Epoch 52/100\n",
      "342/342 [==============================] - 0s 442us/sample - loss: 38.7337 - mean_absolute_error: 38.7337 - val_loss: 39.5995 - val_mean_absolute_error: 39.5995\n",
      "Epoch 53/100\n",
      "342/342 [==============================] - 0s 452us/sample - loss: 38.1091 - mean_absolute_error: 38.1091 - val_loss: 39.0491 - val_mean_absolute_error: 39.0491\n",
      "Epoch 54/100\n",
      "342/342 [==============================] - 0s 445us/sample - loss: 39.4230 - mean_absolute_error: 39.4230 - val_loss: 39.2230 - val_mean_absolute_error: 39.2230\n",
      "Epoch 55/100\n",
      "342/342 [==============================] - 0s 452us/sample - loss: 37.3569 - mean_absolute_error: 37.3569 - val_loss: 39.3736 - val_mean_absolute_error: 39.3736\n",
      "Epoch 56/100\n",
      "342/342 [==============================] - 0s 430us/sample - loss: 37.9259 - mean_absolute_error: 37.9259 - val_loss: 39.0441 - val_mean_absolute_error: 39.0441\n",
      "Epoch 57/100\n",
      "342/342 [==============================] - 0s 445us/sample - loss: 39.5512 - mean_absolute_error: 39.5512 - val_loss: 40.0304 - val_mean_absolute_error: 40.0304\n",
      "Epoch 58/100\n",
      "342/342 [==============================] - 0s 439us/sample - loss: 39.2520 - mean_absolute_error: 39.2520 - val_loss: 40.0058 - val_mean_absolute_error: 40.0058\n",
      "Epoch 59/100\n",
      "342/342 [==============================] - 0s 448us/sample - loss: 37.5248 - mean_absolute_error: 37.5248 - val_loss: 40.1816 - val_mean_absolute_error: 40.1816\n",
      "Epoch 60/100\n",
      "342/342 [==============================] - 0s 451us/sample - loss: 37.2877 - mean_absolute_error: 37.2877 - val_loss: 39.3496 - val_mean_absolute_error: 39.3496\n",
      "Epoch 61/100\n",
      "342/342 [==============================] - 0s 447us/sample - loss: 37.7888 - mean_absolute_error: 37.7888 - val_loss: 38.9590 - val_mean_absolute_error: 38.9590\n",
      "Epoch 62/100\n",
      "342/342 [==============================] - 0s 451us/sample - loss: 38.8392 - mean_absolute_error: 38.8392 - val_loss: 38.6751 - val_mean_absolute_error: 38.6751\n",
      "Epoch 63/100\n",
      "342/342 [==============================] - 0s 451us/sample - loss: 39.1920 - mean_absolute_error: 39.1920 - val_loss: 47.5364 - val_mean_absolute_error: 47.5364\n",
      "Epoch 64/100\n",
      "342/342 [==============================] - 0s 439us/sample - loss: 37.9190 - mean_absolute_error: 37.9190 - val_loss: 45.4950 - val_mean_absolute_error: 45.4950\n",
      "Epoch 65/100\n",
      "342/342 [==============================] - 0s 433us/sample - loss: 40.1916 - mean_absolute_error: 40.1916 - val_loss: 39.2850 - val_mean_absolute_error: 39.2850\n",
      "Epoch 66/100\n",
      "342/342 [==============================] - 0s 459us/sample - loss: 39.0416 - mean_absolute_error: 39.0416 - val_loss: 40.0232 - val_mean_absolute_error: 40.0232\n",
      "Epoch 67/100\n",
      "342/342 [==============================] - 0s 448us/sample - loss: 36.9816 - mean_absolute_error: 36.9816 - val_loss: 40.8743 - val_mean_absolute_error: 40.8743\n",
      "Epoch 68/100\n",
      "342/342 [==============================] - 0s 447us/sample - loss: 38.0243 - mean_absolute_error: 38.0243 - val_loss: 39.4446 - val_mean_absolute_error: 39.4446\n",
      "Epoch 69/100\n",
      "342/342 [==============================] - 0s 448us/sample - loss: 36.6326 - mean_absolute_error: 36.6326 - val_loss: 39.2958 - val_mean_absolute_error: 39.2958\n",
      "Epoch 70/100\n",
      "342/342 [==============================] - 0s 463us/sample - loss: 36.7970 - mean_absolute_error: 36.7970 - val_loss: 38.8459 - val_mean_absolute_error: 38.8459\n",
      "Epoch 71/100\n",
      "342/342 [==============================] - 0s 447us/sample - loss: 36.6018 - mean_absolute_error: 36.6018 - val_loss: 40.0480 - val_mean_absolute_error: 40.0480\n",
      "Epoch 72/100\n",
      "342/342 [==============================] - 0s 442us/sample - loss: 38.3002 - mean_absolute_error: 38.3002 - val_loss: 38.3246 - val_mean_absolute_error: 38.3246\n",
      "Epoch 73/100\n",
      "342/342 [==============================] - 0s 445us/sample - loss: 37.2040 - mean_absolute_error: 37.2040 - val_loss: 38.9636 - val_mean_absolute_error: 38.9636\n",
      "Epoch 74/100\n",
      "342/342 [==============================] - 0s 451us/sample - loss: 37.5084 - mean_absolute_error: 37.5084 - val_loss: 40.8571 - val_mean_absolute_error: 40.8571\n",
      "Epoch 75/100\n",
      "342/342 [==============================] - 0s 442us/sample - loss: 38.7192 - mean_absolute_error: 38.7192 - val_loss: 38.2998 - val_mean_absolute_error: 38.2998\n",
      "Epoch 76/100\n",
      "342/342 [==============================] - 0s 456us/sample - loss: 37.0227 - mean_absolute_error: 37.0226 - val_loss: 39.2803 - val_mean_absolute_error: 39.2803\n",
      "Epoch 77/100\n",
      "342/342 [==============================] - 0s 449us/sample - loss: 38.7462 - mean_absolute_error: 38.7462 - val_loss: 39.1926 - val_mean_absolute_error: 39.1926\n",
      "Epoch 78/100\n",
      "342/342 [==============================] - 0s 462us/sample - loss: 36.3959 - mean_absolute_error: 36.3959 - val_loss: 39.6410 - val_mean_absolute_error: 39.6410\n",
      "Epoch 79/100\n",
      "342/342 [==============================] - 0s 448us/sample - loss: 37.2395 - mean_absolute_error: 37.2395 - val_loss: 39.1109 - val_mean_absolute_error: 39.1109\n",
      "Epoch 80/100\n",
      "342/342 [==============================] - 0s 455us/sample - loss: 38.2029 - mean_absolute_error: 38.2029 - val_loss: 40.6890 - val_mean_absolute_error: 40.6890\n",
      "Epoch 81/100\n",
      "342/342 [==============================] - 0s 448us/sample - loss: 39.8368 - mean_absolute_error: 39.8368 - val_loss: 38.6641 - val_mean_absolute_error: 38.6641\n",
      "Epoch 82/100\n",
      "342/342 [==============================] - 0s 457us/sample - loss: 38.7001 - mean_absolute_error: 38.7001 - val_loss: 42.2191 - val_mean_absolute_error: 42.2191\n",
      "Epoch 83/100\n",
      "342/342 [==============================] - 0s 436us/sample - loss: 37.9247 - mean_absolute_error: 37.9247 - val_loss: 41.1347 - val_mean_absolute_error: 41.1347\n",
      "Epoch 84/100\n",
      "342/342 [==============================] - 0s 449us/sample - loss: 36.6465 - mean_absolute_error: 36.6465 - val_loss: 40.3626 - val_mean_absolute_error: 40.3626\n",
      "Epoch 85/100\n",
      "342/342 [==============================] - 0s 456us/sample - loss: 37.1650 - mean_absolute_error: 37.1650 - val_loss: 38.0866 - val_mean_absolute_error: 38.0866\n",
      "Epoch 86/100\n",
      "342/342 [==============================] - 0s 480us/sample - loss: 37.8644 - mean_absolute_error: 37.8644 - val_loss: 41.4592 - val_mean_absolute_error: 41.4592\n",
      "Epoch 87/100\n",
      "342/342 [==============================] - 0s 492us/sample - loss: 36.9684 - mean_absolute_error: 36.9684 - val_loss: 39.4243 - val_mean_absolute_error: 39.4243\n",
      "Epoch 88/100\n",
      "342/342 [==============================] - 0s 503us/sample - loss: 36.5587 - mean_absolute_error: 36.5587 - val_loss: 39.1148 - val_mean_absolute_error: 39.1148\n",
      "Epoch 89/100\n",
      "342/342 [==============================] - 0s 497us/sample - loss: 38.1285 - mean_absolute_error: 38.1285 - val_loss: 38.9118 - val_mean_absolute_error: 38.9118\n",
      "Epoch 90/100\n",
      "342/342 [==============================] - 0s 489us/sample - loss: 36.9498 - mean_absolute_error: 36.9498 - val_loss: 39.4374 - val_mean_absolute_error: 39.4374\n",
      "Epoch 91/100\n",
      "342/342 [==============================] - 0s 503us/sample - loss: 38.3645 - mean_absolute_error: 38.3645 - val_loss: 40.6475 - val_mean_absolute_error: 40.6475\n",
      "Epoch 92/100\n",
      "342/342 [==============================] - 0s 497us/sample - loss: 37.6452 - mean_absolute_error: 37.6452 - val_loss: 41.6466 - val_mean_absolute_error: 41.6467\n",
      "Epoch 93/100\n",
      "342/342 [==============================] - 0s 471us/sample - loss: 35.6432 - mean_absolute_error: 35.6433 - val_loss: 38.2919 - val_mean_absolute_error: 38.2919\n",
      "Epoch 94/100\n",
      "342/342 [==============================] - 0s 492us/sample - loss: 37.8975 - mean_absolute_error: 37.8975 - val_loss: 43.6315 - val_mean_absolute_error: 43.6315\n",
      "Epoch 95/100\n",
      "342/342 [==============================] - 0s 462us/sample - loss: 37.2513 - mean_absolute_error: 37.2513 - val_loss: 39.5679 - val_mean_absolute_error: 39.5679\n",
      "Epoch 96/100\n",
      "342/342 [==============================] - 0s 500us/sample - loss: 35.9422 - mean_absolute_error: 35.9422 - val_loss: 39.0593 - val_mean_absolute_error: 39.0593\n",
      "Epoch 97/100\n",
      "342/342 [==============================] - 0s 503us/sample - loss: 36.3799 - mean_absolute_error: 36.3799 - val_loss: 38.8439 - val_mean_absolute_error: 38.8439\n",
      "Epoch 98/100\n",
      "342/342 [==============================] - 0s 465us/sample - loss: 35.6729 - mean_absolute_error: 35.6729 - val_loss: 40.3394 - val_mean_absolute_error: 40.3393\n",
      "Epoch 99/100\n",
      "342/342 [==============================] - 0s 483us/sample - loss: 35.3205 - mean_absolute_error: 35.3205 - val_loss: 39.9374 - val_mean_absolute_error: 39.9374\n",
      "Epoch 100/100\n",
      "342/342 [==============================] - 0s 483us/sample - loss: 35.9728 - mean_absolute_error: 35.9728 - val_loss: 38.5788 - val_mean_absolute_error: 38.5788\n"
     ]
    }
   ],
   "source": [
    "result=model.fit(x_train, y_train,validation_split=0.33,batch_size=10,epochs=100)"
   ]
  },
  {
   "cell_type": "code",
   "execution_count": 103,
   "metadata": {},
   "outputs": [
    {
     "name": "stdout",
     "output_type": "stream",
     "text": [
      "WARNING:tensorflow:Falling back from v2 loop because of error: Failed to find data adapter that can handle input: <class 'pandas.core.frame.DataFrame'>, <class 'NoneType'>\n"
     ]
    }
   ],
   "source": [
    "prediction=model.predict(x_test)"
   ]
  },
  {
   "cell_type": "code",
   "execution_count": 104,
   "metadata": {},
   "outputs": [
    {
     "name": "stdout",
     "output_type": "stream",
     "text": [
      "MAE--- 39.690603122682155\n",
      "MSE--- 3385.318563039065\n",
      "R2--- 0.48142788196057074\n"
     ]
    }
   ],
   "source": [
    "from sklearn.metrics import mean_absolute_error,mean_squared_error,r2_score\n",
    "\n",
    "print('MAE---',mean_absolute_error(y_test,prediction))\n",
    "print('MSE---',mean_squared_error(y_test,prediction))\n",
    "print('R2---',r2_score(y_test,prediction))"
   ]
  },
  {
   "cell_type": "code",
   "execution_count": 105,
   "metadata": {},
   "outputs": [
    {
     "data": {
      "text/plain": [
       "<matplotlib.axes._subplots.AxesSubplot at 0xdb57c89cc0>"
      ]
     },
     "execution_count": 105,
     "metadata": {},
     "output_type": "execute_result"
    },
    {
     "data": {
      "image/png": "[encoded data removed]",
      "text/plain": [
       "<Figure size 432x288 with 1 Axes>"
      ]
     },
     "metadata": {
      "needs_background": "light"
     },
     "output_type": "display_data"
    }
   ],
   "source": [
    "import matplotlib.pyplot as plt\n",
    "import seaborn\n",
    "residulas=y_test.values.reshape(-1,1)-prediction\n",
    "sns.distplot(residulas)"
   ]
  },
  {
   "cell_type": "code",
   "execution_count": null,
   "metadata": {},
   "outputs": [],
   "source": []
  },
  {
   "cell_type": "code",
   "execution_count": 106,
   "metadata": {},
   "outputs": [
    {
     "data": {
      "text/plain": [
       "<matplotlib.axes._subplots.AxesSubplot at 0xdb58650fd0>"
      ]
     },
     "execution_count": 106,
     "metadata": {},
     "output_type": "execute_result"
    },
    {
     "data": {
      "image/png": "[encoded data removed]",
      "text/plain": [
       "<Figure size 432x288 with 1 Axes>"
      ]
     },
     "metadata": {
      "needs_background": "light"
     },
     "output_type": "display_data"
    }
   ],
   "source": [
    "sns.scatterplot(y_test,prediction.reshape(-1))"
   ]
  },
  {
   "cell_type": "code",
   "execution_count": 122,
   "metadata": {},
   "outputs": [],
   "source": [
    "from sklearn.preprocessing import StandardScaler\n",
    "sc=StandardScaler()\n",
    "x_train=sc.fit_transform(x_train)\n",
    "x_test=sc.transform(x_test)"
   ]
  },
  {
   "cell_type": "code",
   "execution_count": null,
   "metadata": {},
   "outputs": [],
   "source": []
  },
  {
   "cell_type": "code",
   "execution_count": 124,
   "metadata": {},
   "outputs": [
    {
     "name": "stdout",
     "output_type": "stream",
     "text": [
      "Train on 342 samples, validate on 169 samples\n",
      "Epoch 1/100\n",
      "342/342 [==============================] - 6s 18ms/sample - loss: 99.7299 - mean_absolute_error: 99.7299 - val_loss: 61.0391 - val_mean_absolute_error: 61.0391\n",
      "Epoch 2/100\n",
      "342/342 [==============================] - 1s 2ms/sample - loss: 46.9256 - mean_absolute_error: 46.9256 - val_loss: 44.3913 - val_mean_absolute_error: 44.3913\n",
      "Epoch 3/100\n",
      "342/342 [==============================] - 1s 1ms/sample - loss: 40.3332 - mean_absolute_error: 40.3332 - val_loss: 42.0340 - val_mean_absolute_error: 42.0340\n",
      "Epoch 4/100\n",
      "342/342 [==============================] - 0s 1ms/sample - loss: 36.8267 - mean_absolute_error: 36.8267 - val_loss: 40.5802 - val_mean_absolute_error: 40.5802\n",
      "Epoch 5/100\n",
      "342/342 [==============================] - 0s 1ms/sample - loss: 35.6316 - mean_absolute_error: 35.6316 - val_loss: 39.1606 - val_mean_absolute_error: 39.1606\n",
      "Epoch 6/100\n",
      "342/342 [==============================] - 0s 1ms/sample - loss: 34.4648 - mean_absolute_error: 34.4648 - val_loss: 40.0932 - val_mean_absolute_error: 40.0932\n",
      "Epoch 7/100\n",
      "342/342 [==============================] - 0s 1ms/sample - loss: 34.2894 - mean_absolute_error: 34.2894 - val_loss: 37.2811 - val_mean_absolute_error: 37.2811\n",
      "Epoch 8/100\n",
      "342/342 [==============================] - 0s 1ms/sample - loss: 33.8081 - mean_absolute_error: 33.8081 - val_loss: 40.8975 - val_mean_absolute_error: 40.8975\n",
      "Epoch 9/100\n",
      "342/342 [==============================] - 0s 1ms/sample - loss: 34.4889 - mean_absolute_error: 34.4889 - val_loss: 37.0812 - val_mean_absolute_error: 37.0812\n",
      "Epoch 10/100\n",
      "342/342 [==============================] - 0s 1ms/sample - loss: 32.7541 - mean_absolute_error: 32.7541 - val_loss: 37.6423 - val_mean_absolute_error: 37.6423\n",
      "Epoch 11/100\n",
      "342/342 [==============================] - 0s 1ms/sample - loss: 32.8464 - mean_absolute_error: 32.8464 - val_loss: 36.5722 - val_mean_absolute_error: 36.5722\n",
      "Epoch 12/100\n",
      "342/342 [==============================] - 1s 2ms/sample - loss: 32.4834 - mean_absolute_error: 32.4834 - val_loss: 37.9045 - val_mean_absolute_error: 37.9045\n",
      "Epoch 13/100\n",
      "342/342 [==============================] - 1s 2ms/sample - loss: 32.4211 - mean_absolute_error: 32.4211 - val_loss: 36.9046 - val_mean_absolute_error: 36.9046\n",
      "Epoch 14/100\n",
      "342/342 [==============================] - 0s 1ms/sample - loss: 32.5357 - mean_absolute_error: 32.5357 - val_loss: 36.8582 - val_mean_absolute_error: 36.8582\n",
      "Epoch 15/100\n",
      "342/342 [==============================] - 0s 1ms/sample - loss: 31.8094 - mean_absolute_error: 31.8094 - val_loss: 36.5593 - val_mean_absolute_error: 36.5593\n",
      "Epoch 16/100\n",
      "342/342 [==============================] - 0s 1ms/sample - loss: 32.2787 - mean_absolute_error: 32.2787 - val_loss: 35.8967 - val_mean_absolute_error: 35.8967\n",
      "Epoch 17/100\n",
      "342/342 [==============================] - 0s 1ms/sample - loss: 32.4006 - mean_absolute_error: 32.4006 - val_loss: 37.5480 - val_mean_absolute_error: 37.5480\n",
      "Epoch 18/100\n",
      "342/342 [==============================] - 0s 1ms/sample - loss: 31.6514 - mean_absolute_error: 31.6514 - val_loss: 36.7240 - val_mean_absolute_error: 36.7240\n",
      "Epoch 19/100\n",
      "342/342 [==============================] - 0s 1ms/sample - loss: 31.1870 - mean_absolute_error: 31.1870 - val_loss: 37.9765 - val_mean_absolute_error: 37.9765\n",
      "Epoch 20/100\n",
      "342/342 [==============================] - 0s 998us/sample - loss: 32.0866 - mean_absolute_error: 32.0866 - val_loss: 36.3130 - val_mean_absolute_error: 36.3130\n",
      "Epoch 21/100\n",
      "342/342 [==============================] - 0s 966us/sample - loss: 32.4538 - mean_absolute_error: 32.4538 - val_loss: 35.5287 - val_mean_absolute_error: 35.5287\n",
      "Epoch 22/100\n",
      "342/342 [==============================] - 0s 928us/sample - loss: 31.4508 - mean_absolute_error: 31.4508 - val_loss: 35.6972 - val_mean_absolute_error: 35.6972\n",
      "Epoch 23/100\n",
      "342/342 [==============================] - 0s 854us/sample - loss: 30.9440 - mean_absolute_error: 30.9440 - val_loss: 36.3748 - val_mean_absolute_error: 36.3748\n",
      "Epoch 24/100\n",
      "342/342 [==============================] - 0s 802us/sample - loss: 31.5413 - mean_absolute_error: 31.5413 - val_loss: 36.2690 - val_mean_absolute_error: 36.2690\n",
      "Epoch 25/100\n",
      "342/342 [==============================] - 0s 670us/sample - loss: 30.9496 - mean_absolute_error: 30.9496 - val_loss: 36.1984 - val_mean_absolute_error: 36.1984\n",
      "Epoch 26/100\n",
      "342/342 [==============================] - 0s 647us/sample - loss: 30.7719 - mean_absolute_error: 30.7719 - val_loss: 35.3682 - val_mean_absolute_error: 35.3682\n",
      "Epoch 27/100\n",
      "342/342 [==============================] - 0s 664us/sample - loss: 30.6994 - mean_absolute_error: 30.6994 - val_loss: 37.9044 - val_mean_absolute_error: 37.9044\n",
      "Epoch 28/100\n",
      "342/342 [==============================] - 0s 743us/sample - loss: 31.0377 - mean_absolute_error: 31.0377 - val_loss: 35.0700 - val_mean_absolute_error: 35.0700\n",
      "Epoch 29/100\n",
      "342/342 [==============================] - 0s 693us/sample - loss: 30.1907 - mean_absolute_error: 30.1907 - val_loss: 35.6422 - val_mean_absolute_error: 35.6422\n",
      "Epoch 30/100\n",
      "342/342 [==============================] - 0s 617us/sample - loss: 30.2836 - mean_absolute_error: 30.2836 - val_loss: 35.2538 - val_mean_absolute_error: 35.2538\n",
      "Epoch 31/100\n",
      "342/342 [==============================] - 0s 582us/sample - loss: 30.6662 - mean_absolute_error: 30.6662 - val_loss: 35.7416 - val_mean_absolute_error: 35.7416\n",
      "Epoch 32/100\n",
      "342/342 [==============================] - 0s 594us/sample - loss: 30.0892 - mean_absolute_error: 30.0892 - val_loss: 35.7937 - val_mean_absolute_error: 35.7937\n",
      "Epoch 33/100\n",
      "342/342 [==============================] - 0s 644us/sample - loss: 29.9843 - mean_absolute_error: 29.9843 - val_loss: 35.6732 - val_mean_absolute_error: 35.6732\n",
      "Epoch 34/100\n",
      "342/342 [==============================] - 0s 652us/sample - loss: 30.4486 - mean_absolute_error: 30.4486 - val_loss: 35.7503 - val_mean_absolute_error: 35.7503\n",
      "Epoch 35/100\n",
      "342/342 [==============================] - 0s 576us/sample - loss: 30.0357 - mean_absolute_error: 30.0357 - val_loss: 35.4774 - val_mean_absolute_error: 35.4774\n",
      "Epoch 36/100\n",
      "342/342 [==============================] - 0s 597us/sample - loss: 29.4505 - mean_absolute_error: 29.4505 - val_loss: 35.5015 - val_mean_absolute_error: 35.5015\n",
      "Epoch 37/100\n",
      "342/342 [==============================] - 0s 614us/sample - loss: 29.3585 - mean_absolute_error: 29.3585 - val_loss: 35.3898 - val_mean_absolute_error: 35.3898\n",
      "Epoch 38/100\n",
      "342/342 [==============================] - 0s 594us/sample - loss: 30.2418 - mean_absolute_error: 30.2418 - val_loss: 35.3511 - val_mean_absolute_error: 35.3511\n",
      "Epoch 39/100\n",
      "342/342 [==============================] - 0s 626us/sample - loss: 29.8929 - mean_absolute_error: 29.8929 - val_loss: 35.6085 - val_mean_absolute_error: 35.6085\n",
      "Epoch 40/100\n",
      "342/342 [==============================] - 0s 584us/sample - loss: 29.6632 - mean_absolute_error: 29.6632 - val_loss: 35.5846 - val_mean_absolute_error: 35.5846\n",
      "Epoch 41/100\n",
      "342/342 [==============================] - 0s 577us/sample - loss: 30.0091 - mean_absolute_error: 30.0091 - val_loss: 39.7007 - val_mean_absolute_error: 39.7007\n",
      "Epoch 42/100\n",
      "342/342 [==============================] - 0s 576us/sample - loss: 30.3749 - mean_absolute_error: 30.3749 - val_loss: 37.0511 - val_mean_absolute_error: 37.0511\n",
      "Epoch 43/100\n",
      "342/342 [==============================] - 0s 609us/sample - loss: 29.0454 - mean_absolute_error: 29.0454 - val_loss: 37.4778 - val_mean_absolute_error: 37.4779\n",
      "Epoch 44/100\n",
      "342/342 [==============================] - 0s 609us/sample - loss: 28.9309 - mean_absolute_error: 28.9309 - val_loss: 35.0383 - val_mean_absolute_error: 35.0383\n",
      "Epoch 45/100\n",
      "342/342 [==============================] - 0s 589us/sample - loss: 29.0892 - mean_absolute_error: 29.0892 - val_loss: 34.8760 - val_mean_absolute_error: 34.8760\n",
      "Epoch 46/100\n",
      "342/342 [==============================] - 0s 590us/sample - loss: 29.5956 - mean_absolute_error: 29.5956 - val_loss: 37.1642 - val_mean_absolute_error: 37.1642\n",
      "Epoch 47/100\n",
      "342/342 [==============================] - 0s 591us/sample - loss: 30.3413 - mean_absolute_error: 30.3413 - val_loss: 35.9124 - val_mean_absolute_error: 35.9124\n",
      "Epoch 48/100\n",
      "342/342 [==============================] - 0s 597us/sample - loss: 29.6642 - mean_absolute_error: 29.6642 - val_loss: 37.5326 - val_mean_absolute_error: 37.5326\n",
      "Epoch 49/100\n",
      "342/342 [==============================] - 0s 576us/sample - loss: 29.3617 - mean_absolute_error: 29.3617 - val_loss: 34.5892 - val_mean_absolute_error: 34.5892\n",
      "Epoch 50/100\n",
      "342/342 [==============================] - 0s 582us/sample - loss: 29.4775 - mean_absolute_error: 29.4775 - val_loss: 37.5425 - val_mean_absolute_error: 37.5425\n",
      "Epoch 51/100\n",
      "342/342 [==============================] - 0s 575us/sample - loss: 28.7327 - mean_absolute_error: 28.7327 - val_loss: 37.8055 - val_mean_absolute_error: 37.8055\n",
      "Epoch 52/100\n",
      "342/342 [==============================] - 0s 578us/sample - loss: 28.9111 - mean_absolute_error: 28.9111 - val_loss: 35.9440 - val_mean_absolute_error: 35.9440\n",
      "Epoch 53/100\n",
      "342/342 [==============================] - 0s 604us/sample - loss: 28.6842 - mean_absolute_error: 28.6842 - val_loss: 35.0773 - val_mean_absolute_error: 35.0773\n",
      "Epoch 54/100\n",
      "342/342 [==============================] - 0s 564us/sample - loss: 29.0713 - mean_absolute_error: 29.0713 - val_loss: 35.5311 - val_mean_absolute_error: 35.5311\n",
      "Epoch 55/100\n",
      "342/342 [==============================] - 0s 579us/sample - loss: 28.8005 - mean_absolute_error: 28.8005 - val_loss: 34.9233 - val_mean_absolute_error: 34.9233\n",
      "Epoch 56/100\n",
      "342/342 [==============================] - 0s 565us/sample - loss: 28.8563 - mean_absolute_error: 28.8563 - val_loss: 35.2678 - val_mean_absolute_error: 35.2678\n",
      "Epoch 57/100\n",
      "342/342 [==============================] - 0s 565us/sample - loss: 28.2055 - mean_absolute_error: 28.2055 - val_loss: 35.3148 - val_mean_absolute_error: 35.3148\n",
      "Epoch 58/100\n",
      "342/342 [==============================] - 0s 569us/sample - loss: 29.2376 - mean_absolute_error: 29.2376 - val_loss: 35.3127 - val_mean_absolute_error: 35.3127\n",
      "Epoch 59/100\n",
      "342/342 [==============================] - 0s 583us/sample - loss: 29.1368 - mean_absolute_error: 29.1368 - val_loss: 36.1833 - val_mean_absolute_error: 36.1833\n",
      "Epoch 60/100\n",
      "342/342 [==============================] - 0s 584us/sample - loss: 28.1110 - mean_absolute_error: 28.1110 - val_loss: 36.3438 - val_mean_absolute_error: 36.3438\n",
      "Epoch 61/100\n",
      "342/342 [==============================] - 0s 566us/sample - loss: 27.7943 - mean_absolute_error: 27.7943 - val_loss: 35.8010 - val_mean_absolute_error: 35.8010\n",
      "Epoch 62/100\n",
      "342/342 [==============================] - 0s 562us/sample - loss: 28.2231 - mean_absolute_error: 28.2231 - val_loss: 36.4809 - val_mean_absolute_error: 36.4809\n",
      "Epoch 63/100\n",
      "342/342 [==============================] - 0s 565us/sample - loss: 28.3941 - mean_absolute_error: 28.3941 - val_loss: 38.1058 - val_mean_absolute_error: 38.1058\n",
      "Epoch 64/100\n",
      "342/342 [==============================] - 0s 585us/sample - loss: 28.3270 - mean_absolute_error: 28.3270 - val_loss: 39.2268 - val_mean_absolute_error: 39.2268\n",
      "Epoch 65/100\n",
      "342/342 [==============================] - 0s 573us/sample - loss: 29.3544 - mean_absolute_error: 29.3544 - val_loss: 35.0034 - val_mean_absolute_error: 35.0034\n",
      "Epoch 66/100\n",
      "342/342 [==============================] - 0s 572us/sample - loss: 27.9881 - mean_absolute_error: 27.9881 - val_loss: 35.3883 - val_mean_absolute_error: 35.3883\n",
      "Epoch 67/100\n",
      "342/342 [==============================] - 0s 572us/sample - loss: 27.5562 - mean_absolute_error: 27.5562 - val_loss: 34.8941 - val_mean_absolute_error: 34.8941\n",
      "Epoch 68/100\n",
      "342/342 [==============================] - 0s 563us/sample - loss: 27.5547 - mean_absolute_error: 27.5547 - val_loss: 37.5588 - val_mean_absolute_error: 37.5588\n",
      "Epoch 69/100\n",
      "342/342 [==============================] - 0s 593us/sample - loss: 28.1076 - mean_absolute_error: 28.1076 - val_loss: 35.1793 - val_mean_absolute_error: 35.1793\n",
      "Epoch 70/100\n",
      "342/342 [==============================] - 0s 561us/sample - loss: 27.4792 - mean_absolute_error: 27.4792 - val_loss: 38.4263 - val_mean_absolute_error: 38.4263\n",
      "Epoch 71/100\n",
      "342/342 [==============================] - 0s 583us/sample - loss: 27.6161 - mean_absolute_error: 27.6161 - val_loss: 36.1914 - val_mean_absolute_error: 36.1914\n",
      "Epoch 72/100\n",
      "342/342 [==============================] - 0s 544us/sample - loss: 27.3124 - mean_absolute_error: 27.3124 - val_loss: 36.9299 - val_mean_absolute_error: 36.9299\n",
      "Epoch 73/100\n",
      "342/342 [==============================] - 0s 558us/sample - loss: 27.5869 - mean_absolute_error: 27.5869 - val_loss: 35.3327 - val_mean_absolute_error: 35.3327\n",
      "Epoch 74/100\n",
      "342/342 [==============================] - 0s 579us/sample - loss: 28.2777 - mean_absolute_error: 28.2777 - val_loss: 35.7936 - val_mean_absolute_error: 35.7936\n",
      "Epoch 75/100\n",
      "342/342 [==============================] - 0s 570us/sample - loss: 27.7784 - mean_absolute_error: 27.7784 - val_loss: 36.6276 - val_mean_absolute_error: 36.6276\n",
      "Epoch 76/100\n",
      "342/342 [==============================] - 0s 585us/sample - loss: 27.6672 - mean_absolute_error: 27.6672 - val_loss: 40.1069 - val_mean_absolute_error: 40.1069\n",
      "Epoch 77/100\n",
      "342/342 [==============================] - 0s 569us/sample - loss: 27.5134 - mean_absolute_error: 27.5134 - val_loss: 38.0603 - val_mean_absolute_error: 38.0603\n",
      "Epoch 78/100\n",
      "342/342 [==============================] - 0s 723us/sample - loss: 27.1533 - mean_absolute_error: 27.1533 - val_loss: 35.3348 - val_mean_absolute_error: 35.3348\n",
      "Epoch 79/100\n",
      "342/342 [==============================] - 0s 743us/sample - loss: 27.1160 - mean_absolute_error: 27.1160 - val_loss: 35.5572 - val_mean_absolute_error: 35.5572\n",
      "Epoch 80/100\n",
      "342/342 [==============================] - 0s 699us/sample - loss: 26.6867 - mean_absolute_error: 26.6867 - val_loss: 35.6778 - val_mean_absolute_error: 35.6778\n",
      "Epoch 81/100\n",
      "342/342 [==============================] - 0s 740us/sample - loss: 26.7496 - mean_absolute_error: 26.7496 - val_loss: 36.9855 - val_mean_absolute_error: 36.9855\n",
      "Epoch 82/100\n",
      "342/342 [==============================] - 0s 708us/sample - loss: 26.6314 - mean_absolute_error: 26.6313 - val_loss: 36.0488 - val_mean_absolute_error: 36.0488\n",
      "Epoch 83/100\n",
      "342/342 [==============================] - 0s 729us/sample - loss: 26.9827 - mean_absolute_error: 26.9827 - val_loss: 34.8911 - val_mean_absolute_error: 34.8911\n",
      "Epoch 84/100\n",
      "342/342 [==============================] - 0s 650us/sample - loss: 26.7523 - mean_absolute_error: 26.7523 - val_loss: 36.5046 - val_mean_absolute_error: 36.5046\n",
      "Epoch 85/100\n",
      "342/342 [==============================] - 0s 638us/sample - loss: 26.5736 - mean_absolute_error: 26.5736 - val_loss: 37.1622 - val_mean_absolute_error: 37.1623\n",
      "Epoch 86/100\n",
      "342/342 [==============================] - 0s 702us/sample - loss: 25.7788 - mean_absolute_error: 25.7788 - val_loss: 43.7360 - val_mean_absolute_error: 43.7360\n",
      "Epoch 87/100\n",
      "342/342 [==============================] - 0s 679us/sample - loss: 27.9455 - mean_absolute_error: 27.9455 - val_loss: 35.3242 - val_mean_absolute_error: 35.3242\n",
      "Epoch 88/100\n",
      "342/342 [==============================] - 0s 673us/sample - loss: 26.9905 - mean_absolute_error: 26.9905 - val_loss: 36.3456 - val_mean_absolute_error: 36.3456\n",
      "Epoch 89/100\n",
      "342/342 [==============================] - 0s 638us/sample - loss: 26.9003 - mean_absolute_error: 26.9003 - val_loss: 36.8218 - val_mean_absolute_error: 36.8218\n",
      "Epoch 90/100\n",
      "342/342 [==============================] - 0s 553us/sample - loss: 26.1574 - mean_absolute_error: 26.1574 - val_loss: 35.6355 - val_mean_absolute_error: 35.6355\n",
      "Epoch 91/100\n",
      "342/342 [==============================] - 0s 553us/sample - loss: 26.2756 - mean_absolute_error: 26.2756 - val_loss: 37.4001 - val_mean_absolute_error: 37.4001\n",
      "Epoch 92/100\n",
      "342/342 [==============================] - 0s 559us/sample - loss: 26.0885 - mean_absolute_error: 26.0884 - val_loss: 37.2855 - val_mean_absolute_error: 37.2855\n",
      "Epoch 93/100\n",
      "342/342 [==============================] - 0s 585us/sample - loss: 26.4269 - mean_absolute_error: 26.4269 - val_loss: 36.2077 - val_mean_absolute_error: 36.2077\n",
      "Epoch 94/100\n",
      "342/342 [==============================] - 0s 527us/sample - loss: 25.9211 - mean_absolute_error: 25.9211 - val_loss: 36.2161 - val_mean_absolute_error: 36.2161\n",
      "Epoch 95/100\n"
     ]
    },
    {
     "name": "stdout",
     "output_type": "stream",
     "text": [
      "342/342 [==============================] - 0s 547us/sample - loss: 26.5655 - mean_absolute_error: 26.5655 - val_loss: 34.7616 - val_mean_absolute_error: 34.7616\n",
      "Epoch 96/100\n",
      "342/342 [==============================] - 0s 538us/sample - loss: 26.4795 - mean_absolute_error: 26.4795 - val_loss: 36.2292 - val_mean_absolute_error: 36.2292\n",
      "Epoch 97/100\n",
      "342/342 [==============================] - 0s 530us/sample - loss: 27.4072 - mean_absolute_error: 27.4072 - val_loss: 36.6921 - val_mean_absolute_error: 36.6921\n",
      "Epoch 98/100\n",
      "342/342 [==============================] - 0s 546us/sample - loss: 25.9715 - mean_absolute_error: 25.9715 - val_loss: 39.1012 - val_mean_absolute_error: 39.1012\n",
      "Epoch 99/100\n",
      "342/342 [==============================] - 0s 562us/sample - loss: 25.7235 - mean_absolute_error: 25.7235 - val_loss: 36.9915 - val_mean_absolute_error: 36.9915\n",
      "Epoch 100/100\n",
      "342/342 [==============================] - 0s 530us/sample - loss: 26.5185 - mean_absolute_error: 26.5185 - val_loss: 36.1856 - val_mean_absolute_error: 36.1856\n"
     ]
    }
   ],
   "source": [
    "model=Sequential()\n",
    "model.add(Dense(128, kernel_initializer='normal',input_dim = x_train.shape[1], activation='relu'))\n",
    "model.add(Dense(units=256,activation='relu',kernel_initializer='normal'))\n",
    "model.add(Dense(units=256,activation='relu',kernel_initializer='normal'))\n",
    "model.add(Dense(1,activation='linear'))\n",
    "\n",
    "model.compile(optimizer='adam',loss='mean_absolute_error',metrics=['mean_absolute_error'])\n",
    "\n",
    "result=model.fit(x_train, y_train.values,validation_split=0.33,batch_size=10,epochs=100)\n"
   ]
  },
  {
   "cell_type": "code",
   "execution_count": 133,
   "metadata": {},
   "outputs": [],
   "source": [
    "def  metrics(x_train,y_train,x_test,y_test):\n",
    "    pred=model.predict(x_test)\n",
    "    print('MAE---',mean_absolute_error(y_test,pred))\n",
    "    print('MSE---',mean_squared_error(y_test,pred))\n",
    "    print('R2---',r2_score(y_test,pred))\n",
    "    train_mae=model.evaluate(x_train,y_train.values)\n",
    "    test_mae=model.evaluate(x_test,y_test.values)\n",
    "\n",
    "    print('train_mse',train_mae)\n",
    "    print('test_mse',test_mae)"
   ]
  },
  {
   "cell_type": "code",
   "execution_count": 134,
   "metadata": {},
   "outputs": [
    {
     "name": "stdout",
     "output_type": "stream",
     "text": [
      "MAE--- 32.38697947468751\n",
      "MSE--- 2330.212810241612\n",
      "R2--- 0.6430517926192403\n",
      "511/1 [==================================================================================================================================================================================================================================================================================================================================================================================================================================================================================================================================================================================================================================================================================================================================================================================================================================================================================================================================================================================================================================================================================================================================================================================================================================================================================================================================================================================================================================================================================================================================================================================================================================================================================================================================================================================================================================================================================================================================================================================================================================================================================================================================================================================================================================================================================================================================================================================================================================================================================================================================================================================================================================================================================================================================================================================================================================================================================================================================================================================================================================================================================================================================================================================================================================================================================================================================================================================================================================================================================================================================================================================================================================================================================================================================================================================================================================================================================================================================================================================================================================================================================================================================================================================================================================================================================================================================================================================================================================================================================================================================================================================================================================================================================================================================================================================================================================================================================================================================================================================================================================================================================================================================================================================================================================================================================================================================================================================================================================================================================================================================================================================================================================================================================================================================================================================================================================================================================================================================================================================================================================================================================================================================================================================================================================================================================================================================================================================================================================================================================================================================================================================================================================================================================================================================================================================================================================================================================================================================================================================================================================================================================================================================================================================================================================================================================================================================================================================================================================================================================================================================================================================================================================================================================================================================================================================================================================================================================================================================================================================================================================================================================================================================================================================================================================================================================================================================================================================================================================================================================================================================================================================================================================================================================================================================================================================================================================================================================================================================================================================================================================================================================================================================================================================================================================================================================================================================================================================================================================================================================================================================================================================================================================================================================================================================================================================================================================================================================================================================================================================================================================================================================================================================================================================================================================================================================================================================================================================================================================================================================================================================================================================================================================================================================================================================================================================================================================================================================================================================================================================================================================================================================================================================================================================================================================================================================================================================================================================================================================================================================================================================================================================================================================================================================================================================================================================================================================================================================================================================================================================================================================================================================================================================================================================================================================================================================================================================================================================================================================================================================================================================================================================================================================================================================================================================================================================================================================================================================================================================================================================================================================================================================================================================================================================================================================================================================================================================================================================================================================================================================================================================================================================================================================================================================================================================================================================================================================================================================================================================================================================================================================================================================================================================================================================================================================================================================================================================================================================================================================================================================================================================================================================================================================================================================================================================================================================================================================================================================================================================================================================================================================================================================================================================================================================================================================================================================================================================================================================================================================================================================================================================================================================================================================================================================================================================================================================================================================================================================================================================================================] - 0s 144us/sample - loss: 34.7674 - mean_absolute_error: 29.7497\n"
     ]
    },
    {
     "name": "stdout",
     "output_type": "stream",
     "text": [
      "219/1 [==========================================================================================================================================================================================================================================================================================================================================================================================================================================================================================================================================================================================================================================================================================================================================================================================================================================================================================================================================================================================================================================================================================================================================================================================================================================================================================================================================================================================================================================================================================================================================================================================================================================================================================================================================================================================================================================================================================================================================================================================================================================================================================================================================================================================================================================================================================================================================================================================================================================================================================================================================================================================================================================================================================================================================================================================================================================================================================================================================================================================================================================================================================================================================================================================================================================================================================================================================================================================================================================================================================================================================================================================================================================================================================================================================================================================================================================================================================================================================================================================================================================================================================================================================================================================================================================================================================================================================================================================================================================================================================================================================================================================================================================================================================================================================================================================================================================================================================================================================================================================================================================================================================================================================================================================================================================================================================================================================================================================================================================================================================================================================================================================================================================================================================================================================================================================================================================================================================================================================================================================================================================================================================================================================================================================================================================================================================================================================================================================================================================================================================================================================================================================================================================================================================================================================================================================================================================] - 0s 169us/sample - loss: 36.0571 - mean_absolute_error: 32.3870\n",
      "train_mse [29.749654698978432, 29.749653]\n",
      "test_mse [32.386979142280474, 32.38698]\n"
     ]
    }
   ],
   "source": [
    "metrics(x_train,y_train,x_test,y_test)"
   ]
  },
  {
   "cell_type": "markdown",
   "metadata": {},
   "source": [
    "# DIfferent WEIGHT Initialization"
   ]
  },
  {
   "cell_type": "code",
   "execution_count": 145,
   "metadata": {},
   "outputs": [],
   "source": [
    "model=Sequential()\n",
    "model.add(Dense(128, kernel_initializer='he_uniform',input_dim = x_train.shape[1], activation='relu'))\n",
    "model.add(Dense(units=256,activation='relu',kernel_initializer='he_uniform'))\n",
    "model.add(Dense(units=256,activation='relu',kernel_initializer='he_uniform'))\n",
    "model.add(Dense(1,activation='linear'))\n",
    "\n",
    "model.compile(optimizer='adam',loss='mean_absolute_error',metrics=['mean_absolute_error'])\n",
    "\n",
    "result=model.fit(x_train, y_train.values,validation_split=0.33,batch_size=10,epochs=100)"
   ]
  },
  {
   "cell_type": "code",
   "execution_count": 142,
   "metadata": {},
   "outputs": [
    {
     "data": {
      "text/plain": [
       "[<matplotlib.lines.Line2D at 0xdb57bea828>]"
      ]
     },
     "execution_count": 142,
     "metadata": {},
     "output_type": "execute_result"
    },
    {
     "data": {
      "image/png": "[encoded data removed]",
      "text/plain": [
       "<Figure size 432x288 with 1 Axes>"
      ]
     },
     "metadata": {
      "needs_background": "light"
     },
     "output_type": "display_data"
    }
   ],
   "source": [
    "##metrics(x_train,y_train,x_test,y_test)\n",
    "plt.plot(result.history['loss'])\n",
    "plt.plot(result.history['val_loss'])"
   ]
  },
  {
   "cell_type": "code",
   "execution_count": 146,
   "metadata": {},
   "outputs": [
    {
     "name": "stdout",
     "output_type": "stream",
     "text": [
      "Train on 342 samples, validate on 169 samples\n",
      "Epoch 1/100\n",
      "342/342 [==============================] - 3s 9ms/sample - loss: 99.9523 - mean_absolute_error: 99.9523 - val_loss: 61.4500 - val_mean_absolute_error: 61.4500\n",
      "Epoch 2/100\n",
      "342/342 [==============================] - 0s 1ms/sample - loss: 47.0676 - mean_absolute_error: 47.0676 - val_loss: 47.2299 - val_mean_absolute_error: 47.2299\n",
      "Epoch 3/100\n",
      "342/342 [==============================] - 0s 1ms/sample - loss: 40.1689 - mean_absolute_error: 40.1689 - val_loss: 43.5714 - val_mean_absolute_error: 43.5714\n",
      "Epoch 4/100\n",
      "342/342 [==============================] - 0s 1ms/sample - loss: 38.3461 - mean_absolute_error: 38.3461 - val_loss: 40.4759 - val_mean_absolute_error: 40.4759\n",
      "Epoch 5/100\n",
      "342/342 [==============================] - 0s 1ms/sample - loss: 35.8633 - mean_absolute_error: 35.8633 - val_loss: 39.0359 - val_mean_absolute_error: 39.0359\n",
      "Epoch 6/100\n",
      "342/342 [==============================] - 0s 1ms/sample - loss: 35.0182 - mean_absolute_error: 35.0182 - val_loss: 39.8710 - val_mean_absolute_error: 39.8710\n",
      "Epoch 7/100\n",
      "342/342 [==============================] - 0s 1ms/sample - loss: 34.2520 - mean_absolute_error: 34.2520 - val_loss: 38.5515 - val_mean_absolute_error: 38.5515\n",
      "Epoch 8/100\n",
      "342/342 [==============================] - 0s 1ms/sample - loss: 34.2842 - mean_absolute_error: 34.2842 - val_loss: 37.0534 - val_mean_absolute_error: 37.0534\n",
      "Epoch 9/100\n",
      "342/342 [==============================] - 0s 1ms/sample - loss: 33.1552 - mean_absolute_error: 33.1552 - val_loss: 38.7231 - val_mean_absolute_error: 38.7231\n",
      "Epoch 10/100\n",
      "342/342 [==============================] - 0s 1ms/sample - loss: 32.7348 - mean_absolute_error: 32.7348 - val_loss: 37.7925 - val_mean_absolute_error: 37.7925\n",
      "Epoch 11/100\n",
      "342/342 [==============================] - 0s 1ms/sample - loss: 32.4641 - mean_absolute_error: 32.4641 - val_loss: 37.4168 - val_mean_absolute_error: 37.4168\n",
      "Epoch 12/100\n",
      "342/342 [==============================] - 0s 1ms/sample - loss: 32.6780 - mean_absolute_error: 32.6780 - val_loss: 35.7557 - val_mean_absolute_error: 35.7557\n",
      "Epoch 13/100\n",
      "342/342 [==============================] - 0s 1ms/sample - loss: 32.1812 - mean_absolute_error: 32.1812 - val_loss: 36.4052 - val_mean_absolute_error: 36.4052\n",
      "Epoch 14/100\n",
      "342/342 [==============================] - 0s 1ms/sample - loss: 31.5004 - mean_absolute_error: 31.5004 - val_loss: 38.0900 - val_mean_absolute_error: 38.0900\n",
      "Epoch 15/100\n",
      "342/342 [==============================] - 0s 1ms/sample - loss: 31.9297 - mean_absolute_error: 31.9297 - val_loss: 36.1910 - val_mean_absolute_error: 36.1910\n",
      "Epoch 16/100\n",
      "342/342 [==============================] - 0s 1ms/sample - loss: 30.7481 - mean_absolute_error: 30.7481 - val_loss: 36.0159 - val_mean_absolute_error: 36.0159\n",
      "Epoch 17/100\n",
      "342/342 [==============================] - 0s 1ms/sample - loss: 31.5055 - mean_absolute_error: 31.5055 - val_loss: 38.8935 - val_mean_absolute_error: 38.8935\n",
      "Epoch 18/100\n",
      "342/342 [==============================] - 0s 1ms/sample - loss: 30.6697 - mean_absolute_error: 30.6697 - val_loss: 35.5619 - val_mean_absolute_error: 35.5619\n",
      "Epoch 19/100\n",
      "342/342 [==============================] - 0s 998us/sample - loss: 30.4122 - mean_absolute_error: 30.4122 - val_loss: 36.2844 - val_mean_absolute_error: 36.2844\n",
      "Epoch 20/100\n",
      "342/342 [==============================] - 0s 1ms/sample - loss: 30.5111 - mean_absolute_error: 30.5112 - val_loss: 36.8083 - val_mean_absolute_error: 36.8083\n",
      "Epoch 21/100\n",
      "342/342 [==============================] - 0s 907us/sample - loss: 30.3548 - mean_absolute_error: 30.3548 - val_loss: 36.0153 - val_mean_absolute_error: 36.0153\n",
      "Epoch 22/100\n",
      "342/342 [==============================] - 0s 919us/sample - loss: 30.2342 - mean_absolute_error: 30.2342 - val_loss: 35.4647 - val_mean_absolute_error: 35.4647\n",
      "Epoch 23/100\n",
      "342/342 [==============================] - 0s 933us/sample - loss: 30.1036 - mean_absolute_error: 30.1036 - val_loss: 35.5091 - val_mean_absolute_error: 35.5091\n",
      "Epoch 24/100\n",
      "342/342 [==============================] - 0s 851us/sample - loss: 30.2234 - mean_absolute_error: 30.2234 - val_loss: 36.6391 - val_mean_absolute_error: 36.6391\n",
      "Epoch 25/100\n",
      "342/342 [==============================] - 0s 813us/sample - loss: 29.4735 - mean_absolute_error: 29.4735 - val_loss: 38.4526 - val_mean_absolute_error: 38.4526\n",
      "Epoch 26/100\n",
      "342/342 [==============================] - 0s 778us/sample - loss: 30.0550 - mean_absolute_error: 30.0550 - val_loss: 39.9315 - val_mean_absolute_error: 39.9315\n",
      "Epoch 27/100\n",
      "342/342 [==============================] - 0s 819us/sample - loss: 29.5415 - mean_absolute_error: 29.5415 - val_loss: 37.0055 - val_mean_absolute_error: 37.0055\n",
      "Epoch 28/100\n",
      "342/342 [==============================] - 0s 752us/sample - loss: 29.2792 - mean_absolute_error: 29.2792 - val_loss: 37.6573 - val_mean_absolute_error: 37.6573\n",
      "Epoch 29/100\n",
      "342/342 [==============================] - 0s 701us/sample - loss: 29.1661 - mean_absolute_error: 29.1661 - val_loss: 35.3725 - val_mean_absolute_error: 35.3725\n",
      "Epoch 30/100\n",
      "342/342 [==============================] - 0s 702us/sample - loss: 29.2642 - mean_absolute_error: 29.2642 - val_loss: 35.3840 - val_mean_absolute_error: 35.3840\n",
      "Epoch 31/100\n",
      "342/342 [==============================] - 0s 787us/sample - loss: 28.8068 - mean_absolute_error: 28.8068 - val_loss: 38.6627 - val_mean_absolute_error: 38.6627\n",
      "Epoch 32/100\n",
      "342/342 [==============================] - 0s 737us/sample - loss: 28.5860 - mean_absolute_error: 28.5860 - val_loss: 34.7041 - val_mean_absolute_error: 34.7041\n",
      "Epoch 33/100\n",
      "342/342 [==============================] - 0s 863us/sample - loss: 28.6494 - mean_absolute_error: 28.6494 - val_loss: 34.3871 - val_mean_absolute_error: 34.3871\n",
      "Epoch 34/100\n",
      "342/342 [==============================] - 0s 734us/sample - loss: 29.4157 - mean_absolute_error: 29.4157 - val_loss: 35.2632 - val_mean_absolute_error: 35.2632\n",
      "Epoch 35/100\n",
      "342/342 [==============================] - 0s 711us/sample - loss: 28.9421 - mean_absolute_error: 28.9421 - val_loss: 37.9104 - val_mean_absolute_error: 37.9104\n",
      "Epoch 36/100\n",
      "342/342 [==============================] - 0s 729us/sample - loss: 28.6762 - mean_absolute_error: 28.6762 - val_loss: 34.4994 - val_mean_absolute_error: 34.4994\n",
      "Epoch 37/100\n",
      "342/342 [==============================] - 0s 670us/sample - loss: 28.3508 - mean_absolute_error: 28.3509 - val_loss: 34.8446 - val_mean_absolute_error: 34.8447\n",
      "Epoch 38/100\n",
      "342/342 [==============================] - 0s 655us/sample - loss: 27.8375 - mean_absolute_error: 27.8375 - val_loss: 34.7746 - val_mean_absolute_error: 34.7746\n",
      "Epoch 39/100\n",
      "342/342 [==============================] - 0s 650us/sample - loss: 28.7720 - mean_absolute_error: 28.7721 - val_loss: 34.8121 - val_mean_absolute_error: 34.8121\n",
      "Epoch 40/100\n",
      "342/342 [==============================] - 0s 652us/sample - loss: 28.8428 - mean_absolute_error: 28.8428 - val_loss: 34.6663 - val_mean_absolute_error: 34.6663\n",
      "Epoch 41/100\n",
      "342/342 [==============================] - 0s 641us/sample - loss: 29.0318 - mean_absolute_error: 29.0318 - val_loss: 36.4001 - val_mean_absolute_error: 36.4001\n",
      "Epoch 42/100\n",
      "342/342 [==============================] - 0s 617us/sample - loss: 27.8462 - mean_absolute_error: 27.8462 - val_loss: 37.7720 - val_mean_absolute_error: 37.7720\n",
      "Epoch 43/100\n",
      "342/342 [==============================] - 0s 670us/sample - loss: 31.5814 - mean_absolute_error: 31.5814 - val_loss: 34.7103 - val_mean_absolute_error: 34.7103\n",
      "Epoch 44/100\n",
      "342/342 [==============================] - 0s 594us/sample - loss: 27.3019 - mean_absolute_error: 27.3019 - val_loss: 34.9294 - val_mean_absolute_error: 34.9294\n",
      "Epoch 45/100\n",
      "342/342 [==============================] - 0s 863us/sample - loss: 27.9729 - mean_absolute_error: 27.9729 - val_loss: 35.1853 - val_mean_absolute_error: 35.1853\n",
      "Epoch 46/100\n",
      "342/342 [==============================] - 0s 644us/sample - loss: 27.9052 - mean_absolute_error: 27.9052 - val_loss: 35.6640 - val_mean_absolute_error: 35.6640\n",
      "Epoch 47/100\n",
      "342/342 [==============================] - 0s 652us/sample - loss: 27.3586 - mean_absolute_error: 27.3586 - val_loss: 34.8200 - val_mean_absolute_error: 34.8200\n",
      "Epoch 48/100\n",
      "342/342 [==============================] - 0s 603us/sample - loss: 28.0641 - mean_absolute_error: 28.0641 - val_loss: 34.6442 - val_mean_absolute_error: 34.6442\n",
      "Epoch 49/100\n",
      "342/342 [==============================] - 0s 620us/sample - loss: 27.0611 - mean_absolute_error: 27.0611 - val_loss: 34.9530 - val_mean_absolute_error: 34.9530\n",
      "Epoch 50/100\n",
      "342/342 [==============================] - 0s 609us/sample - loss: 27.3990 - mean_absolute_error: 27.3990 - val_loss: 36.1463 - val_mean_absolute_error: 36.1463\n",
      "Epoch 51/100\n",
      "342/342 [==============================] - 0s 568us/sample - loss: 27.2451 - mean_absolute_error: 27.2451 - val_loss: 34.9070 - val_mean_absolute_error: 34.9070\n",
      "Epoch 52/100\n",
      "342/342 [==============================] - 0s 603us/sample - loss: 27.6939 - mean_absolute_error: 27.6939 - val_loss: 34.7622 - val_mean_absolute_error: 34.7622\n",
      "Epoch 53/100\n",
      "342/342 [==============================] - 0s 571us/sample - loss: 27.5957 - mean_absolute_error: 27.5957 - val_loss: 37.2311 - val_mean_absolute_error: 37.2311\n",
      "Epoch 54/100\n",
      "342/342 [==============================] - 0s 548us/sample - loss: 27.0783 - mean_absolute_error: 27.0783 - val_loss: 34.9701 - val_mean_absolute_error: 34.9701\n",
      "Epoch 55/100\n",
      "342/342 [==============================] - 0s 597us/sample - loss: 27.5065 - mean_absolute_error: 27.5065 - val_loss: 36.4407 - val_mean_absolute_error: 36.4407\n",
      "Epoch 56/100\n",
      "342/342 [==============================] - 0s 530us/sample - loss: 26.4601 - mean_absolute_error: 26.4601 - val_loss: 35.9283 - val_mean_absolute_error: 35.9283\n",
      "Epoch 57/100\n",
      "342/342 [==============================] - 0s 568us/sample - loss: 26.8155 - mean_absolute_error: 26.8155 - val_loss: 37.0908 - val_mean_absolute_error: 37.0908\n",
      "Epoch 58/100\n",
      "342/342 [==============================] - 0s 544us/sample - loss: 26.7936 - mean_absolute_error: 26.7936 - val_loss: 35.2814 - val_mean_absolute_error: 35.2814\n",
      "Epoch 59/100\n",
      "342/342 [==============================] - 0s 594us/sample - loss: 28.9504 - mean_absolute_error: 28.9504 - val_loss: 34.6806 - val_mean_absolute_error: 34.6806\n",
      "Epoch 60/100\n",
      "342/342 [==============================] - 0s 565us/sample - loss: 27.5962 - mean_absolute_error: 27.5962 - val_loss: 37.7835 - val_mean_absolute_error: 37.7835\n",
      "Epoch 61/100\n",
      "342/342 [==============================] - 0s 556us/sample - loss: 27.2366 - mean_absolute_error: 27.2366 - val_loss: 34.9724 - val_mean_absolute_error: 34.9724\n",
      "Epoch 62/100\n",
      "342/342 [==============================] - 0s 588us/sample - loss: 26.7206 - mean_absolute_error: 26.7206 - val_loss: 36.3150 - val_mean_absolute_error: 36.3150\n",
      "Epoch 63/100\n",
      "342/342 [==============================] - 0s 538us/sample - loss: 26.0035 - mean_absolute_error: 26.0035 - val_loss: 34.9558 - val_mean_absolute_error: 34.9558\n",
      "Epoch 64/100\n",
      "342/342 [==============================] - 0s 565us/sample - loss: 25.5077 - mean_absolute_error: 25.5077 - val_loss: 35.7057 - val_mean_absolute_error: 35.7057\n",
      "Epoch 65/100\n",
      "342/342 [==============================] - 0s 556us/sample - loss: 26.5930 - mean_absolute_error: 26.5930 - val_loss: 35.8342 - val_mean_absolute_error: 35.8342\n",
      "Epoch 66/100\n",
      "342/342 [==============================] - 0s 585us/sample - loss: 26.8641 - mean_absolute_error: 26.8641 - val_loss: 38.7974 - val_mean_absolute_error: 38.7974\n",
      "Epoch 67/100\n",
      "342/342 [==============================] - 0s 617us/sample - loss: 27.5734 - mean_absolute_error: 27.5734 - val_loss: 34.8410 - val_mean_absolute_error: 34.8410\n",
      "Epoch 68/100\n",
      "342/342 [==============================] - 0s 556us/sample - loss: 26.4993 - mean_absolute_error: 26.4993 - val_loss: 35.7917 - val_mean_absolute_error: 35.7917\n",
      "Epoch 69/100\n",
      "342/342 [==============================] - 0s 544us/sample - loss: 25.4669 - mean_absolute_error: 25.4669 - val_loss: 36.5056 - val_mean_absolute_error: 36.5056\n",
      "Epoch 70/100\n",
      "342/342 [==============================] - 0s 544us/sample - loss: 26.5361 - mean_absolute_error: 26.5361 - val_loss: 36.5898 - val_mean_absolute_error: 36.5898\n",
      "Epoch 71/100\n",
      "342/342 [==============================] - 0s 579us/sample - loss: 25.5934 - mean_absolute_error: 25.5934 - val_loss: 35.5999 - val_mean_absolute_error: 35.5999\n",
      "Epoch 72/100\n",
      "342/342 [==============================] - 0s 573us/sample - loss: 25.9685 - mean_absolute_error: 25.9685 - val_loss: 35.5098 - val_mean_absolute_error: 35.5098\n",
      "Epoch 73/100\n",
      "342/342 [==============================] - 0s 542us/sample - loss: 25.2982 - mean_absolute_error: 25.2982 - val_loss: 38.2923 - val_mean_absolute_error: 38.2923\n",
      "Epoch 74/100\n",
      "342/342 [==============================] - 0s 544us/sample - loss: 25.7752 - mean_absolute_error: 25.7752 - val_loss: 34.6420 - val_mean_absolute_error: 34.6420\n",
      "Epoch 75/100\n",
      "342/342 [==============================] - 0s 591us/sample - loss: 25.5042 - mean_absolute_error: 25.5042 - val_loss: 35.5459 - val_mean_absolute_error: 35.5459\n",
      "Epoch 76/100\n",
      "342/342 [==============================] - 0s 556us/sample - loss: 25.5957 - mean_absolute_error: 25.5957 - val_loss: 36.2659 - val_mean_absolute_error: 36.2659\n",
      "Epoch 77/100\n",
      "342/342 [==============================] - 0s 576us/sample - loss: 26.0555 - mean_absolute_error: 26.0555 - val_loss: 34.8483 - val_mean_absolute_error: 34.8483\n",
      "Epoch 78/100\n",
      "342/342 [==============================] - 0s 559us/sample - loss: 26.1371 - mean_absolute_error: 26.1371 - val_loss: 36.9210 - val_mean_absolute_error: 36.9210\n",
      "Epoch 79/100\n",
      "342/342 [==============================] - 0s 588us/sample - loss: 25.1067 - mean_absolute_error: 25.1067 - val_loss: 36.2609 - val_mean_absolute_error: 36.2609\n",
      "Epoch 80/100\n",
      "342/342 [==============================] - 0s 565us/sample - loss: 25.1509 - mean_absolute_error: 25.1509 - val_loss: 35.4844 - val_mean_absolute_error: 35.4844\n",
      "Epoch 81/100\n",
      "342/342 [==============================] - 0s 579us/sample - loss: 25.0381 - mean_absolute_error: 25.0381 - val_loss: 40.0474 - val_mean_absolute_error: 40.0474\n",
      "Epoch 82/100\n",
      "342/342 [==============================] - 0s 658us/sample - loss: 25.6507 - mean_absolute_error: 25.6507 - val_loss: 37.5732 - val_mean_absolute_error: 37.5732\n",
      "Epoch 83/100\n",
      "342/342 [==============================] - 0s 676us/sample - loss: 25.7128 - mean_absolute_error: 25.7128 - val_loss: 35.8914 - val_mean_absolute_error: 35.8914\n",
      "Epoch 84/100\n",
      "342/342 [==============================] - 0s 705us/sample - loss: 24.9579 - mean_absolute_error: 24.9579 - val_loss: 40.6087 - val_mean_absolute_error: 40.6087\n",
      "Epoch 85/100\n",
      "342/342 [==============================] - 0s 679us/sample - loss: 26.9855 - mean_absolute_error: 26.9855 - val_loss: 36.6648 - val_mean_absolute_error: 36.6648\n",
      "Epoch 86/100\n",
      "342/342 [==============================] - 0s 702us/sample - loss: 25.4430 - mean_absolute_error: 25.4430 - val_loss: 35.0731 - val_mean_absolute_error: 35.0731\n",
      "Epoch 87/100\n",
      "342/342 [==============================] - 0s 691us/sample - loss: 24.5733 - mean_absolute_error: 24.5733 - val_loss: 37.1564 - val_mean_absolute_error: 37.1565\n",
      "Epoch 88/100\n",
      "342/342 [==============================] - 0s 685us/sample - loss: 24.6084 - mean_absolute_error: 24.6084 - val_loss: 36.5033 - val_mean_absolute_error: 36.5033\n",
      "Epoch 89/100\n",
      "342/342 [==============================] - 0s 705us/sample - loss: 24.6529 - mean_absolute_error: 24.6529 - val_loss: 36.3930 - val_mean_absolute_error: 36.3930\n",
      "Epoch 90/100\n",
      "342/342 [==============================] - 0s 705us/sample - loss: 25.6379 - mean_absolute_error: 25.6379 - val_loss: 37.2123 - val_mean_absolute_error: 37.2122\n",
      "Epoch 91/100\n",
      "342/342 [==============================] - 0s 711us/sample - loss: 24.1361 - mean_absolute_error: 24.1361 - val_loss: 36.0715 - val_mean_absolute_error: 36.0715\n",
      "Epoch 92/100\n",
      "342/342 [==============================] - 0s 699us/sample - loss: 24.3073 - mean_absolute_error: 24.3073 - val_loss: 38.2543 - val_mean_absolute_error: 38.2543\n",
      "Epoch 93/100\n",
      "342/342 [==============================] - 0s 705us/sample - loss: 24.3673 - mean_absolute_error: 24.3673 - val_loss: 35.7797 - val_mean_absolute_error: 35.7797\n",
      "Epoch 94/100\n",
      "342/342 [==============================] - 0s 603us/sample - loss: 23.5070 - mean_absolute_error: 23.5070 - val_loss: 36.2734 - val_mean_absolute_error: 36.2734\n",
      "Epoch 95/100\n"
     ]
    },
    {
     "name": "stdout",
     "output_type": "stream",
     "text": [
      "342/342 [==============================] - 0s 573us/sample - loss: 24.0965 - mean_absolute_error: 24.0965 - val_loss: 36.2552 - val_mean_absolute_error: 36.2552\n",
      "Epoch 96/100\n",
      "342/342 [==============================] - 0s 562us/sample - loss: 23.7084 - mean_absolute_error: 23.7084 - val_loss: 41.4712 - val_mean_absolute_error: 41.4712\n",
      "Epoch 97/100\n",
      "342/342 [==============================] - 0s 563us/sample - loss: 24.8206 - mean_absolute_error: 24.8206 - val_loss: 35.7649 - val_mean_absolute_error: 35.7649\n",
      "Epoch 98/100\n",
      "342/342 [==============================] - 0s 541us/sample - loss: 23.1899 - mean_absolute_error: 23.1899 - val_loss: 37.3371 - val_mean_absolute_error: 37.3371\n",
      "Epoch 99/100\n",
      "342/342 [==============================] - 0s 546us/sample - loss: 24.5166 - mean_absolute_error: 24.5166 - val_loss: 37.5110 - val_mean_absolute_error: 37.5110\n",
      "Epoch 100/100\n",
      "342/342 [==============================] - 0s 594us/sample - loss: 23.6182 - mean_absolute_error: 23.6182 - val_loss: 37.1768 - val_mean_absolute_error: 37.1768\n"
     ]
    }
   ],
   "source": [
    "model=Sequential()\n",
    "model.add(Dense(128, kernel_initializer='glorot_uniform',input_dim = x_train.shape[1], activation='relu'))\n",
    "model.add(Dense(units=256,activation='relu',kernel_initializer='glorot_uniform'))\n",
    "model.add(Dense(units=256,activation='relu',kernel_initializer='glorot_uniform'))\n",
    "model.add(Dense(1,activation='linear'))\n",
    "\n",
    "model.compile(optimizer='adam',loss='mean_absolute_error',metrics=['mean_absolute_error'])\n",
    "\n",
    "result=model.fit(x_train, y_train.values,validation_split=0.33,batch_size=10,epochs=100)"
   ]
  },
  {
   "cell_type": "code",
   "execution_count": null,
   "metadata": {},
   "outputs": [],
   "source": []
  },
  {
   "cell_type": "code",
   "execution_count": null,
   "metadata": {},
   "outputs": [],
   "source": []
  },
  {
   "cell_type": "code",
   "execution_count": 147,
   "metadata": {},
   "outputs": [
    {
     "name": "stdout",
     "output_type": "stream",
     "text": [
      "MAE--- 33.25729989149073\n",
      "MSE--- 2344.8528341421834\n",
      "R2--- 0.6408091947481993\n",
      "\r",
      "511/1 [==================================================================================================================================================================================================================================================================================================================================================================================================================================================================================================================================================================================================================================================================================================================================================================================================================================================================================================================================================================================================================================================================================================================================================================================================================================================================================================================================================================================================================================================================================================================================================================================================================================================================================================================================================================================================================================================================================================================================================================================================================================================================================================================================================================================================================================================================================================================================================================================================================================================================================================================================================================================================================================================================================================================================================================================================================================================================================================================================================================================================================================================================================================================================================================================================================================================================================================================================================================================================================================================================================================================================================================================================================================================================================================================================================================================================================================================================================================================================================================================================================================================================================================================================================================================================================================================================================================================================================================================================================================================================================================================================================================================================================================================================================================================================================================================================================================================================================================================================================================================================================================================================================================================================================================================================================================================================================================================================================================================================================================================================================================================================================================================================================================================================================================================================================================================================================================================================================================================================================================================================================================================================================================================================================================================================================================================================================================================================================================================================================================================================================================================================================================================================================================================================================================================================================================================================================================================================================================================================================================================================================================================================================================================================================================================================================================================================================================================================================================================================================================================================================================================================================================================================================================================================================================================================================================================================================================================================================================================================================================================================================================================================================================================================================================================================================================================================================================================================================================================================================================================================================================================================================================================================================================================================================================================================================================================================================================================================================================================================================================================================================================================================================================================================================================================================================================================================================================================================================================================================================================================================================================================================================================================================================================================================================================================================================================================================================================================================================================================================================================================================================================================================================================================================================================================================================================================================================================================================================================================================================================================================================================================================================================================================================================================================================================================================================================================================================================================================================================================================================================================================================================================================================================================================================================================================================================================================================================================================================================================================================================================================================================================================================================================================================================================================================================================================================================================================================================================================================================================================================================================================================================================================================================================================================================================================================================================================================================================================================================================================================================================================================================================================================================================================================================================================================================================================================================================================================================================================================================================================================================================================================================================================================================================================================================================================================================================================================================================================================================================================================================================================================================================================================================================================================================================================================================================================================================================================================================================================================================================================================================================================================================================================================================================================================================================================================================================================================================================================================================================================================================================================================================================================================================================================================================================================================================================================================================================================================================================================================================================================================================================================================================================================================================================================================================================================================================================================================================================================================================================================================================================================================================================================================================================================================================================================================================================================================================================================================================================================================================================================================================] - 0s 159us/sample - loss: 33.8503 - mean_absolute_error: 27.0299\n"
     ]
    },
    {
     "name": "stdout",
     "output_type": "stream",
     "text": [
      "219/1 [==========================================================================================================================================================================================================================================================================================================================================================================================================================================================================================================================================================================================================================================================================================================================================================================================================================================================================================================================================================================================================================================================================================================================================================================================================================================================================================================================================================================================================================================================================================================================================================================================================================================================================================================================================================================================================================================================================================================================================================================================================================================================================================================================================================================================================================================================================================================================================================================================================================================================================================================================================================================================================================================================================================================================================================================================================================================================================================================================================================================================================================================================================================================================================================================================================================================================================================================================================================================================================================================================================================================================================================================================================================================================================================================================================================================================================================================================================================================================================================================================================================================================================================================================================================================================================================================================================================================================================================================================================================================================================================================================================================================================================================================================================================================================================================================================================================================================================================================================================================================================================================================================================================================================================================================================================================================================================================================================================================================================================================================================================================================================================================================================================================================================================================================================================================================================================================================================================================================================================================================================================================================================================================================================================================================================================================================================================================================================================================================================================================================================================================================================================================================================================================================================================================================================================================================================================================================] - 0s 174us/sample - loss: 38.0537 - mean_absolute_error: 33.2573\n",
      "train_mse [27.029946821776388, 27.029945]\n",
      "test_mse [33.25729910097166, 33.257294]\n"
     ]
    },
    {
     "data": {
      "text/plain": [
       "[<matplotlib.lines.Line2D at 0xdb596bee10>]"
      ]
     },
     "execution_count": 147,
     "metadata": {},
     "output_type": "execute_result"
    },
    {
     "data": {
      "image/png": "[encoded data removed]",
      "text/plain": [
       "<Figure size 432x288 with 1 Axes>"
      ]
     },
     "metadata": {
      "needs_background": "light"
     },
     "output_type": "display_data"
    }
   ],
   "source": [
    "metrics(x_train,y_train,x_test,y_test)\n",
    "plt.plot(result.history['loss'])\n",
    "plt.plot(result.history['val_loss'])"
   ]
  }
 ],
 "metadata": {
  "kernelspec": {
   "display_name": "Python 3",
   "language": "python",
   "name": "python3"
  },
  "language_info": {
   "codemirror_mode": {
    "name": "ipython",
    "version": 3
   },
   "file_extension": ".py",
   "mimetype": "text/x-python",
   "name": "python",
   "nbconvert_exporter": "python",
   "pygments_lexer": "ipython3",
   "version": "3.7.6"
  }
 },
 "nbformat": 4,
 "nbformat_minor": 2
}
